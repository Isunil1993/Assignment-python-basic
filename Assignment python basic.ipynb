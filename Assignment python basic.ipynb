{
 "cells": [
  {
   "cell_type": "markdown",
   "id": "b1e40d3b",
   "metadata": {},
   "source": [
    "1. In the below elements which of them are values or an expression? eg:- values can be integer or string and expressions will be mathematical operators."
   ]
  },
  {
   "cell_type": "code",
   "execution_count": 6,
   "id": "7aa4d54e",
   "metadata": {},
   "outputs": [
    {
     "name": "stdout",
     "output_type": "stream",
     "text": [
      "<class 'int'>\n",
      "<class 'str'>\n",
      "<class 'float'>\n",
      "<class 'int'>\n",
      "<class 'float'>\n",
      "<class 'int'>\n"
     ]
    }
   ],
   "source": [
    "a=10*10\n",
    "print(type(a))\n",
    "b='hello'\n",
    "print(type(b))\n",
    "c=-87.8\n",
    "print(type(c))\n",
    "d= 10-10\n",
    "print(type(d))\n",
    "e=10/10 \n",
    "print(type(e))\n",
    "f= 10+10\n",
    "g=6\n",
    "print(type(g))\n"
   ]
  },
  {
   "cell_type": "code",
   "execution_count": 7,
   "id": "6f42b526",
   "metadata": {},
   "outputs": [],
   "source": [
    "# This Is expression * \n",
    "# 'hello' This is String\n",
    "# This is float value -87.8\n",
    "# This is the Arithmatic operator - \n",
    "# This is the Arithmatic operator / \n",
    "# This is the Arithmatic operator+\n",
    "# This is the Integer type 6 \n"
   ]
  },
  {
   "cell_type": "markdown",
   "id": "ae6b922f",
   "metadata": {},
   "source": [
    "2. What is the difference between string and variable?"
   ]
  },
  {
   "cell_type": "code",
   "execution_count": 8,
   "id": "a6e6e6cd",
   "metadata": {},
   "outputs": [
    {
     "data": {
      "text/plain": [
       "' STring Value is represent Text Value\\nVariable represent address of value '"
      ]
     },
     "execution_count": 8,
     "metadata": {},
     "output_type": "execute_result"
    }
   ],
   "source": [
    "\"\"\" STring Value is represent Text Value\n",
    "Variable represent address of value \"\"\""
   ]
  },
  {
   "cell_type": "markdown",
   "id": "67b5a606",
   "metadata": {},
   "source": [
    "3. Describe three different data types."
   ]
  },
  {
   "cell_type": "code",
   "execution_count": 16,
   "id": "1f8e5ef9",
   "metadata": {},
   "outputs": [
    {
     "name": "stdout",
     "output_type": "stream",
     "text": [
      "Integer Data type represent Whole number:- <class 'int'>\n",
      "Float Data type represent point value:-  10.5\n",
      "String Data type represent Text Value:- Sunil\n"
     ]
    }
   ],
   "source": [
    "A=10\n",
    "print(\"Integer Data type represent Whole number:-\",type(a))\n",
    "B=10.5\n",
    "print(\"Float Data type represent point value:- \",(B))\n",
    "C=\"Sunil\"\n",
    "print(\"String Data type represent Text Value:-\",(C))"
   ]
  },
  {
   "cell_type": "markdown",
   "id": "c189720d",
   "metadata": {},
   "source": [
    "4. What is an expression made up of? What do all expressions do?"
   ]
  },
  {
   "cell_type": "code",
   "execution_count": 17,
   "id": "826452f6",
   "metadata": {},
   "outputs": [
    {
     "name": "stdout",
     "output_type": "stream",
     "text": [
      "Expression is made up vlaues ,containers and mathmatical operators:- 9\n"
     ]
    }
   ],
   "source": [
    "# expression is made up values,containers and Mathematical operators\n",
    "#for ex\n",
    "b=7+2\n",
    "print(\"Expression is made up vlaues ,containers and mathmatical operators:-\",b)\n"
   ]
  },
  {
   "cell_type": "markdown",
   "id": "6db9fd0e",
   "metadata": {},
   "source": [
    "5. This assignment statements, like spam = 10. What is the difference between an expression and a statement?"
   ]
  },
  {
   "cell_type": "code",
   "execution_count": 18,
   "id": "fa3d38c8",
   "metadata": {},
   "outputs": [
    {
     "name": "stdout",
     "output_type": "stream",
     "text": [
      "Statement like just sentence or command its print line by line\n",
      "Expression is value,containers and operands\n"
     ]
    }
   ],
   "source": [
    "print(\"Statement like just sentence or command its print line by line\")\n",
    "print(\"Expression is value,containers and operands\")"
   ]
  },
  {
   "cell_type": "markdown",
   "id": "88e58257",
   "metadata": {},
   "source": [
    "6. After running the following code, what does the variable bacon contain?"
   ]
  },
  {
   "cell_type": "code",
   "execution_count": 21,
   "id": "957d712d",
   "metadata": {},
   "outputs": [
    {
     "data": {
      "text/plain": [
       "23"
      ]
     },
     "execution_count": 21,
     "metadata": {},
     "output_type": "execute_result"
    }
   ],
   "source": [
    "bacon=22\n",
    "bacon + 1\n"
   ]
  },
  {
   "cell_type": "markdown",
   "id": "64f1f2aa",
   "metadata": {},
   "source": [
    "7. What should the values of the following two terms be?"
   ]
  },
  {
   "cell_type": "code",
   "execution_count": 22,
   "id": "8f014bb5",
   "metadata": {},
   "outputs": [
    {
     "data": {
      "text/plain": [
       "'spamspamspam'"
      ]
     },
     "execution_count": 22,
     "metadata": {},
     "output_type": "execute_result"
    }
   ],
   "source": [
    "'spam' + 'spamspam'"
   ]
  },
  {
   "cell_type": "code",
   "execution_count": 25,
   "id": "8c4ee771",
   "metadata": {},
   "outputs": [
    {
     "name": "stdout",
     "output_type": "stream",
     "text": [
      "Spam is multiply three times:- spamspamspam\n"
     ]
    }
   ],
   "source": [
    "a='spam'*3\n",
    "print(\"Spam is multiply three times:-\",(a))"
   ]
  },
  {
   "cell_type": "markdown",
   "id": "cf9d00e8",
   "metadata": {},
   "source": [
    "8. Why is eggs a valid variable name while 100 is invalid?"
   ]
  },
  {
   "cell_type": "code",
   "execution_count": 26,
   "id": "5a0bef73",
   "metadata": {},
   "outputs": [
    {
     "name": "stdout",
     "output_type": "stream",
     "text": [
      "Variable starts with mostly text data thats a resean eggs consider variable and 100 is invalid\n"
     ]
    }
   ],
   "source": [
    "print(\"Variable starts with mostly text data thats a resean eggs consider variable and 100 is invalid\")"
   ]
  },
  {
   "cell_type": "markdown",
   "id": "7a8334e6",
   "metadata": {},
   "source": [
    "9. What three functions can be used to get the integer, floating-point number, or string version of a value?"
   ]
  },
  {
   "cell_type": "code",
   "execution_count": 27,
   "id": "68c5e3b6",
   "metadata": {},
   "outputs": [
    {
     "name": "stdout",
     "output_type": "stream",
     "text": [
      "string ,integer, float\n"
     ]
    }
   ],
   "source": [
    "print(\"string ,integer, float\")"
   ]
  },
  {
   "cell_type": "markdown",
   "id": "54873677",
   "metadata": {},
   "source": [
    "10. Why does this expression cause an error? How can you fix it?"
   ]
  },
  {
   "cell_type": "code",
   "execution_count": 29,
   "id": "d178c19c",
   "metadata": {},
   "outputs": [
    {
     "ename": "TypeError",
     "evalue": "can only concatenate str (not \"int\") to str",
     "output_type": "error",
     "traceback": [
      "\u001b[1;31m---------------------------------------------------------------------------\u001b[0m",
      "\u001b[1;31mTypeError\u001b[0m                                 Traceback (most recent call last)",
      "\u001b[1;32m~\\AppData\\Local\\Temp/ipykernel_7908/2016300537.py\u001b[0m in \u001b[0;36m<module>\u001b[1;34m\u001b[0m\n\u001b[1;32m----> 1\u001b[1;33m \u001b[1;34m\"I have eaten\"\u001b[0m\u001b[1;33m+\u001b[0m\u001b[1;36m99\u001b[0m\u001b[1;33m+\u001b[0m\u001b[1;34m'burritos'\u001b[0m\u001b[1;33m\u001b[0m\u001b[1;33m\u001b[0m\u001b[0m\n\u001b[0m",
      "\u001b[1;31mTypeError\u001b[0m: can only concatenate str (not \"int\") to str"
     ]
    }
   ],
   "source": [
    "\"I have eaten\"+99+'burritos'"
   ]
  },
  {
   "cell_type": "code",
   "execution_count": 32,
   "id": "d43131fb",
   "metadata": {},
   "outputs": [
    {
     "name": "stdout",
     "output_type": "stream",
     "text": [
      "Above statement cannot consider due to when ve want concatnate'we can only convert into string to string not string to integer\n"
     ]
    }
   ],
   "source": [
    "print(\"Above statement cannot consider due to when ve want concatnate'we can only convert into string to string not string to integer\")"
   ]
  },
  {
   "cell_type": "code",
   "execution_count": null,
   "id": "6c485a95",
   "metadata": {},
   "outputs": [],
   "source": []
  }
 ],
 "metadata": {
  "kernelspec": {
   "display_name": "Python 3 (ipykernel)",
   "language": "python",
   "name": "python3"
  },
  "language_info": {
   "codemirror_mode": {
    "name": "ipython",
    "version": 3
   },
   "file_extension": ".py",
   "mimetype": "text/x-python",
   "name": "python",
   "nbconvert_exporter": "python",
   "pygments_lexer": "ipython3",
   "version": "3.9.7"
  }
 },
 "nbformat": 4,
 "nbformat_minor": 5
}
